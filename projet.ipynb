{
 "cells": [
  {
   "cell_type": "code",
   "execution_count": 1,
   "id": "49ceccdc-c89b-45bf-b82c-e088524e0440",
   "metadata": {
    "tags": []
   },
   "outputs": [
    {
     "name": "stdout",
     "output_type": "stream",
     "text": [
      "Hello canabis\n"
     ]
    }
   ],
   "source": [
    "print(\"Hello canabis\")\n"
   ]
  },
  {
   "cell_type": "code",
   "execution_count": null,
   "id": "3a2a6520-fd4e-40c3-b738-a42c127c5333",
   "metadata": {},
   "outputs": [],
   "source": [
    "## THC:\n",
    "#masse mol = 314,4617 ± 0,019 5 g/mol\n",
    "# formule : C21H30O2\n",
    "# name : tetrahydrocannabinol THC\n",
    "#propriétés: mol très fragile, hydrosolubilité nulle sauf si contact à graisse alors bonne, \n",
    "#se fixe aux récépteurs CB1, densité qui reste plusieurs jours dans le corps, substance pyschotrope\n",
    "\n",
    "## CBD :\n",
    "#name : cannabidiol, compo organique de famille cannabidoïl, 2e constituant après THC à 5% dans le chanvre\n",
    "# propriété chimique : très lipophile (dans lait maternelle et tissus apideux), diminue vigilance, effets sédatifs élevés\n",
    "# faire décroire élimination THC dans coprs "
   ]
  }
 ],
 "metadata": {
  "kernelspec": {
   "display_name": "Python 3 (ipykernel)",
   "language": "python",
   "name": "python3"
  },
  "language_info": {
   "codemirror_mode": {
    "name": "ipython",
    "version": 3
   },
   "file_extension": ".py",
   "mimetype": "text/x-python",
   "name": "python",
   "nbconvert_exporter": "python",
   "pygments_lexer": "ipython3",
   "version": "3.11.5"
  }
 },
 "nbformat": 4,
 "nbformat_minor": 5
}
